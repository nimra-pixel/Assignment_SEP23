{
  "nbformat": 4,
  "nbformat_minor": 0,
  "metadata": {
    "colab": {
      "provenance": []
    },
    "kernelspec": {
      "name": "python3",
      "display_name": "Python 3"
    },
    "language_info": {
      "name": "python"
    }
  },
  "cells": [
    {
      "cell_type": "code",
      "source": [
        "def manage_student_database():\n",
        "    student_list = []  # List to store student tuples (ID, name)\n",
        "    student_id = 1  # Starting student ID\n",
        "\n",
        "    # Loop to get user input until 'stop' is entered\n",
        "    while True:\n",
        "        name = input(\"Enter student name (or 'stop' to finish): \")\n",
        "        if name.lower() == 'stop':\n",
        "            break\n",
        "\n",
        "        # Check for duplicate names\n",
        "        if name in [student[1] for student in student_list]:\n",
        "            print(f\"{name} is already in the list.\")\n",
        "        else:\n",
        "            student_list.append((student_id, name))  # Add student (ID, name)\n",
        "            student_id += 1\n",
        "\n",
        "    # Display the list of students\n",
        "    print(\"\\nStudents List:\")\n",
        "    for student in student_list:\n",
        "        print(f\"ID: {student[0]}, Name: {student[1]}\")\n",
        "\n",
        "    # Calculate and display statistics\n",
        "    total_students = len(student_list)\n",
        "    total_name_length = sum(len(student[1]) for student in student_list)\n",
        "    longest_name = max(student_list, key=lambda x: len(x[1]))[1]\n",
        "    shortest_name = min(student_list, key=lambda x: len(x[1]))[1]\n",
        "\n",
        "    print(f\"\\nTotal students: {total_students}\")\n",
        "    print(f\"Combined length of all names: {total_name_length}\")\n",
        "    print(f\"Longest name: {longest_name}\")\n",
        "    print(f\"Shortest name: {shortest_name}\")\n",
        "\n",
        "# Run the function\n",
        "manage_student_database()\n"
      ],
      "metadata": {
        "colab": {
          "base_uri": "https://localhost:8080/"
        },
        "id": "dEx0n2qp7_qk",
        "outputId": "9b7a6f9a-5b40-4715-c3c3-8cbd96e9dbcd"
      },
      "execution_count": 1,
      "outputs": [
        {
          "output_type": "stream",
          "name": "stdout",
          "text": [
            "Enter student name (or 'stop' to finish): Nimra\n",
            "Enter student name (or 'stop' to finish): Mehak\n",
            "Enter student name (or 'stop' to finish): Aslam\n",
            "Enter student name (or 'stop' to finish): Ali\n",
            "Enter student name (or 'stop' to finish): stOP\n",
            "\n",
            "Students List:\n",
            "ID: 1, Name: Nimra\n",
            "ID: 2, Name: Mehak\n",
            "ID: 3, Name: Aslam\n",
            "ID: 4, Name: Ali\n",
            "\n",
            "Total students: 4\n",
            "Combined length of all names: 18\n",
            "Longest name: Nimra\n",
            "Shortest name: Ali\n"
          ]
        }
      ]
    }
  ]
}